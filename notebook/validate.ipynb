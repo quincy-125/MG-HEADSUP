{
 "cells": [
  {
   "cell_type": "code",
   "execution_count": null,
   "id": "499ee8cd-8447-4cff-85d5-fcca4ae6487a",
   "metadata": {},
   "outputs": [],
   "source": [
    "import pydicom as dcm\n",
    "import numpy as np\n",
    "import os\n",
    "import matplotlib.pyplot as plt"
   ]
  },
  {
   "cell_type": "code",
   "execution_count": null,
   "id": "f1877010-e739-4529-84f7-c6d9ef854ff1",
   "metadata": {},
   "outputs": [],
   "source": [
    "def dcm_bit_standardize(dcm):\n",
    "    x = dcm.pixel_array + 1000\n",
    "    px_mode = 4096\n",
    "    x[x >= px_mode] = x[x >= px_mode] - px_mode\n",
    "    dcm.PixelData = x.tobytes()\n",
    "    dcm.RescaleIntercept = -1000"
   ]
  },
  {
   "cell_type": "code",
   "execution_count": null,
   "id": "37f425bb-644b-4c20-b8d6-ee9fa9cdf0c5",
   "metadata": {},
   "outputs": [],
   "source": [
    "def transform_to_hu(medical_image):\n",
    "    # if (medical_image.BitsStored == 12) and (medical_image.PixelRepresentation == 0) and (int(medical_image.RescaleIntercept) > -100):\n",
    "    #     print(\"Bit Standardization\")\n",
    "    #     dcm_bit_standardize(medical_image)\n",
    "    image = medical_image.pixel_array\n",
    "    intercept = medical_image.RescaleIntercept\n",
    "    slope = medical_image.RescaleSlope\n",
    "    hu_image = image * slope + intercept\n",
    "    return hu_image\n",
    "# If we want a specific zone of the image we can window the image:\n",
    "def window_image(image, window_center, window_width):\n",
    "    img_min = window_center - window_width // 2\n",
    "    img_max = window_center + window_width // 2\n",
    "    window_image = image.copy()\n",
    "    window_image[window_image < img_min] = img_min\n",
    "    window_image[window_image > img_max] = img_max\n",
    "    # window_image = np.clip(image, img_min, img_max)\n",
    "    return window_image"
   ]
  },
  {
   "cell_type": "code",
   "execution_count": null,
   "id": "5427c3e0-18ef-43a4-b5ab-6e355f270d26",
   "metadata": {},
   "outputs": [],
   "source": [
    "brain_image == color_image[:,:,0]"
   ]
  },
  {
   "cell_type": "code",
   "execution_count": null,
   "id": "c9dd16b8-8ff3-40a1-ad5f-6332686a4539",
   "metadata": {},
   "outputs": [],
   "source": [
    "np.all(subdural_image == brain_image)"
   ]
  },
  {
   "cell_type": "code",
   "execution_count": null,
   "id": "fbcd59d6-81da-4271-bc93-1746d078668f",
   "metadata": {},
   "outputs": [],
   "source": [
    "im=dcm.dcmread(\"test.dcm\")\n",
    "\n",
    "image = im.pixel_array\n",
    "\n",
    "hu_image = transform_to_hu(im)\n",
    "brain_image = window_image(hu_image, 40, 80)\n",
    "subdural_image = window_image(hu_image, 80, 200)\n",
    "soft_image = window_image(hu_image, 40, 380)\n",
    "\n",
    "# brain_image = (brain_image - 0) / 80\n",
    "# subdural_image = (subdural_image - (-20)) / 200\n",
    "# soft_image = (soft_image - (-150)) / 380\n",
    "\n",
    "# # Create empty color image\n",
    "# color_image = np.zeros((brain_image.shape[0], brain_image.shape[1], 3), dtype=np.float64)\n",
    "color_image = np.zeros((brain_image.shape[0], brain_image.shape[1], 3), dtype=np.int8)\n",
    "# Set first channel to first grayscale image\n",
    "color_image[:,:,0] = soft_image\n",
    "# Set second channel to second grayscale image\n",
    "color_image[:,:,1] = brain_image\n",
    "# Set third channel to third grayscale image\n",
    "color_image[:,:,2] = subdural_image\n",
    "# color_image = np.array([brain_image1, subdural_image1, soft_image1]).transpose(1, 2, 0)\n",
    "# color_image = np.array([subdural_image, brain_image, soft_image]).transpose(1, 2, 0)\n",
    "# color_image = np.array([brain_image, subdural_image, soft_image]).transpose(1, 2, 0)\n",
    "\n",
    "#combined_img = pilim.fromarray(combined_img)\n",
    "#image.save(gcsfuse_mount_data_path_PNG+'/'+name[:-4]+'.png')\n",
    "plt.imshow(color_image, cmap=plt.cm.gray)"
   ]
  },
  {
   "cell_type": "code",
   "execution_count": null,
   "id": "d8a96b11-aca0-4a4b-bd33-96ae42b6f283",
   "metadata": {},
   "outputs": [],
   "source": [
    "np.unique(color_image[:, :, 0])"
   ]
  },
  {
   "cell_type": "code",
   "execution_count": null,
   "id": "112edb46-75ae-44c8-869a-b3e66a8fecb8",
   "metadata": {},
   "outputs": [],
   "source": [
    "plt.imshow(brain_image, cmap=plt.cm.gray)"
   ]
  },
  {
   "cell_type": "code",
   "execution_count": null,
   "id": "822343a9-02bd-473d-8cd8-0166a43528b6",
   "metadata": {},
   "outputs": [],
   "source": [
    "plt.imshow(subdural_image, cmap=plt.cm.gray)"
   ]
  },
  {
   "cell_type": "code",
   "execution_count": null,
   "id": "1ac31360-f8f3-4f63-aa67-a5d432a3b6a8",
   "metadata": {},
   "outputs": [],
   "source": [
    "plt.imshow(soft_image, cmap=plt.cm.gray)"
   ]
  },
  {
   "cell_type": "code",
   "execution_count": null,
   "id": "c2d9f0be-f53d-42ca-8bb9-04e2ad41a196",
   "metadata": {},
   "outputs": [],
   "source": [
    "np.all(color_image[:, :, 0] == brain_image)"
   ]
  },
  {
   "cell_type": "code",
   "execution_count": null,
   "id": "59f03b90-ac11-42bb-a440-338ec63e7c92",
   "metadata": {},
   "outputs": [],
   "source": [
    "np.all(color_image[:,:, 1]== subdural_image)"
   ]
  },
  {
   "cell_type": "code",
   "execution_count": null,
   "id": "e90817a9-de8f-4aa5-82fb-be0ee35d3de6",
   "metadata": {},
   "outputs": [],
   "source": [
    "np.all(color_image[:, :, 2] == soft_image)"
   ]
  }
 ],
 "metadata": {
  "environment": {
   "kernel": "python3",
   "name": "tf2-gpu.2-8.m103",
   "type": "gcloud",
   "uri": "gcr.io/deeplearning-platform-release/tf2-gpu.2-8:m103"
  },
  "kernelspec": {
   "display_name": "Python 3 (ipykernel)",
   "language": "python",
   "name": "python3"
  },
  "language_info": {
   "codemirror_mode": {
    "name": "ipython",
    "version": 3
   },
   "file_extension": ".py",
   "mimetype": "text/x-python",
   "name": "python",
   "nbconvert_exporter": "python",
   "pygments_lexer": "ipython3",
   "version": "3.7.12"
  }
 },
 "nbformat": 4,
 "nbformat_minor": 5
}
