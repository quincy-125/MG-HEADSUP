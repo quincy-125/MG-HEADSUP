{
 "cells": [
  {
   "cell_type": "code",
   "execution_count": 1,
   "id": "cc2a9c98-476b-4336-9f9b-fd439eb08693",
   "metadata": {},
   "outputs": [],
   "source": [
    "import os\n",
    "import numpy as np\n",
    "import pydicom as dcm\n",
    "import pandas as pd"
   ]
  },
  {
   "cell_type": "code",
   "execution_count": 2,
   "id": "45a60d41-d724-4fa2-909f-8bea9d926959",
   "metadata": {},
   "outputs": [],
   "source": [
    "## load in dicom image data\n",
    "test_dcm = dcm.dcmread(\"../sample_data/test.dcm\")"
   ]
  },
  {
   "cell_type": "code",
   "execution_count": 3,
   "id": "c39e6b8e-9feb-41ba-be50-26ffa6fc575d",
   "metadata": {},
   "outputs": [
    {
     "data": {
      "text/plain": [
       "Dataset.file_meta -------------------------------\n",
       "(0002, 0000) File Meta Information Group Length  UL: 204\n",
       "(0002, 0001) File Meta Information Version       OB: b'\\x00\\x01'\n",
       "(0002, 0002) Media Storage SOP Class UID         UI: CT Image Storage\n",
       "(0002, 0003) Media Storage SOP Instance UID      UI: 1.2.276.0.45.1.7.4.250977676261436.23040317252900189.19681\n",
       "(0002, 0010) Transfer Syntax UID                 UI: JPEG Lossless, Non-Hierarchical, First-Order Prediction (Process 14 [Selection Value 1])\n",
       "(0002, 0012) Implementation Class UID            UI: 1.2.276.0.7230010.3.0.3.6.5\n",
       "(0002, 0013) Implementation Version Name         SH: 'OFFIS_DCMTK_365'\n",
       "-------------------------------------------------\n",
       "(0008, 0008) Image Type                          CS: ['ORIGINAL', 'PRIMARY', 'AXIAL']\n",
       "(0008, 0016) SOP Class UID                       UI: CT Image Storage\n",
       "(0008, 0018) SOP Instance UID                    UI: 1.2.276.0.45.1.7.4.250977676261436.23040317252900189.19681\n",
       "(0008, 0020) Study Date                          DA: '20080814'\n",
       "(0008, 0021) Series Date                         DA: '20080814'\n",
       "(0008, 0022) Acquisition Date                    DA: '20080814'\n",
       "(0008, 0023) Content Date                        DA: '20080814'\n",
       "(0008, 0030) Study Time                          TM: '145307.000'\n",
       "(0008, 0031) Series Time                         TM: '145731.125'\n",
       "(0008, 0032) Acquisition Time                    TM: '145516.650'\n",
       "(0008, 0033) Content Time                        TM: '145517.888'\n",
       "(0008, 0050) Accession Number                    SH: '1c4fa8dc'\n",
       "(0008, 0060) Modality                            CS: 'CT'\n",
       "(0008, 0070) Manufacturer                        LO: 'TOSHIBA'\n",
       "(0008, 0080) Institution Name                    LO: ''\n",
       "(0008, 1030) Study Description                   LO: '70450 (CT HEAD WITHOUT C)'\n",
       "(0008, 1032)  Procedure Code Sequence  1 item(s) ---- \n",
       "   (0008, 0100) Code Value                          SH: '70450'\n",
       "   (0008, 0102) Coding Scheme Designator            SH: 'C4'\n",
       "   (0008, 0104) Code Meaning                        LO: 'CT HEAD/BRAIN W/O DYE'\n",
       "   ---------\n",
       "(0008, 103e) Series Description                  LO: ',,Axial,5.0,,,'\n",
       "(0008, 1090) Manufacturer's Model Name           LO: 'Aquilion'\n",
       "(0008, 1110)  Referenced Study Sequence  1 item(s) ---- \n",
       "   (0008, 1150) Referenced SOP Class UID            UI: Detached Study Management SOP Class\n",
       "   (0008, 1155) Referenced SOP Instance UID         UI: 1.2.840.113754.1.4.561.6919185.8579.1.81408.1919\n",
       "   ---------\n",
       "(0010, 0010) Patient's Name                      PN: 'NYHHS_2008_p002'\n",
       "(0010, 0020) Patient ID                          LO: 'c0f78d33'\n",
       "(0010, 0021) Issuer of Patient ID                LO: ''\n",
       "(0010, 0030) Patient's Birth Date                DA: '19320101'\n",
       "(0010, 0040) Patient's Sex                       CS: 'M'\n",
       "(0010, 1010) Patient's Age                       AS: '076Y'\n",
       "(0018, 0022) Scan Options                        CS: 'HELICAL_CT'\n",
       "(0018, 0050) Slice Thickness                     DS: '5.0'\n",
       "(0018, 0060) KVP                                 DS: '120.0'\n",
       "(0018, 0090) Data Collection Diameter            DS: '320.0'\n",
       "(0018, 1000) Device Serial Number                LO: 'SERIALNO'\n",
       "(0018, 1020) Software Versions                   LO: 'V3.10ER002'\n",
       "(0018, 1030) Protocol Name                       LO: 'Brain HCT 5mm       (0.5mm x 64)'\n",
       "(0018, 1100) Reconstruction Diameter             DS: '250.0'\n",
       "(0018, 1120) Gantry/Detector Tilt                DS: '0.0'\n",
       "(0018, 1130) Table Height                        DS: '47.0'\n",
       "(0018, 1140) Rotation Direction                  CS: 'CW'\n",
       "(0018, 1150) Exposure Time                       IS: '1000'\n",
       "(0018, 1151) X-Ray Tube Current                  IS: '300'\n",
       "(0018, 1152) Exposure                            IS: '300'\n",
       "(0018, 1170) Generator Power                     IS: '36'\n",
       "(0018, 1190) Focal Spot(s)                       DS: [0.9, 0.8]\n",
       "(0018, 1210) Convolution Kernel                  SH: 'FC64'\n",
       "(0018, 5100) Patient Position                    CS: 'HFS'\n",
       "(0018, 9345) CTDIvol                             FD: 47.3\n",
       "(0020, 000d) Study Instance UID                  UI: 1.2.276.0.45.1.7.2.250977676261436.23040317252900187.19681\n",
       "(0020, 000e) Series Instance UID                 UI: 1.2.276.0.45.1.7.3.250977676261436.23040317252900188.19681\n",
       "(0020, 0010) Study ID                            SH: '17b6d93b'\n",
       "(0020, 0011) Series Number                       IS: '5'\n",
       "(0020, 0012) Acquisition Number                  IS: '3'\n",
       "(0020, 0013) Instance Number                     IS: '1'\n",
       "(0020, 0020) Patient Orientation                 CS: ['L', 'P']\n",
       "(0020, 0032) Image Position (Patient)            DS: [-134.1319, -108.3296, -570.0000]\n",
       "(0020, 0037) Image Orientation (Patient)         DS: [0.98481, -0.17365, 0.00000, 0.17365, 0.98481, 0.00000]\n",
       "(0020, 0052) Frame of Reference UID              UI: 1.2.392.200036.9116.2.6.1.48.1214851945.1218693188.771721\n",
       "(0020, 1040) Position Reference Indicator        LO: ''\n",
       "(0020, 1041) Slice Location                      DS: '0.0'\n",
       "(0028, 0002) Samples per Pixel                   US: 1\n",
       "(0028, 0004) Photometric Interpretation          CS: 'MONOCHROME2'\n",
       "(0028, 0010) Rows                                US: 512\n",
       "(0028, 0011) Columns                             US: 512\n",
       "(0028, 0030) Pixel Spacing                       DS: [0.488000, 0.488000]\n",
       "(0028, 0100) Bits Allocated                      US: 16\n",
       "(0028, 0101) Bits Stored                         US: 16\n",
       "(0028, 0102) High Bit                            US: 15\n",
       "(0028, 0103) Pixel Representation                US: 1\n",
       "(0028, 1050) Window Center                       DS: '40.0'\n",
       "(0028, 1051) Window Width                        DS: '120.0'\n",
       "(0028, 1052) Rescale Intercept                   DS: '0.0'\n",
       "(0028, 1053) Rescale Slope                       DS: '1.0'\n",
       "(0032, 4000) Study Comments                      LT: ''\n",
       "(0040, 0002) Scheduled Procedure Step Start Date DA: '20080814'\n",
       "(0040, 0003) Scheduled Procedure Step Start Time TM: '142000'\n",
       "(0040, 0004) Scheduled Procedure Step End Date   DA: '20080814'\n",
       "(0040, 0005) Scheduled Procedure Step End Time   TM: '145000'\n",
       "(0040, 0244) Performed Procedure Step Start Date DA: '20080814'\n",
       "(0040, 0245) Performed Procedure Step Start Time TM: '145307.000'\n",
       "(0040, 0253) Performed Procedure Step ID         SH: '7924'\n",
       "(0040, 0260)  Performed Protocol Code Sequence  1 item(s) ---- \n",
       "   (0008, 0100) Code Value                          SH: '1252'\n",
       "   (0008, 0102) Coding Scheme Designator            SH: 'L'\n",
       "   (0008, 0104) Code Meaning                        LO: '70450 (CT HEAD WITHOUT C)'\n",
       "   ---------\n",
       "(0040, 0275)  Request Attributes Sequence  1 item(s) ---- \n",
       "   (0032, 1060) Requested Procedure Description     LO: 'CT HEAD/BRAIN W/O DYE'\n",
       "   (0040, 0007) Scheduled Procedure Step Descriptio LO: '70450 (CT HEAD WITHOUT C)'\n",
       "   (0040, 0008)  Scheduled Protocol Code Sequence  1 item(s) ---- \n",
       "      (0008, 0100) Code Value                          SH: '1252'\n",
       "      (0008, 0102) Coding Scheme Designator            SH: 'L'\n",
       "      (0008, 0104) Code Meaning                        LO: '70450 (CT HEAD WITHOUT C)'\n",
       "      ---------\n",
       "   (0040, 0009) Scheduled Procedure Step ID         SH: '1252'\n",
       "   ---------\n",
       "(0073, 0010) Private Creator                     LO: 'STENTOR'\n",
       "(7005, 0010) Private Creator                     LO: 'TOSHIBA_MEC_CT3'\n",
       "(7fe0, 0010) Pixel Data                          OB: Array of 159906 elements"
      ]
     },
     "execution_count": 3,
     "metadata": {},
     "output_type": "execute_result"
    }
   ],
   "source": [
    "test_dcm"
   ]
  },
  {
   "cell_type": "code",
   "execution_count": 31,
   "id": "af3e6a0a",
   "metadata": {},
   "outputs": [],
   "source": [
    "dcm_metadata_tags = [\"SOPInstanceUID\", \"PatientID\", \"StudyInstanceUID\", \"SeriesInstanceUID\"]"
   ]
  },
  {
   "cell_type": "code",
   "execution_count": 38,
   "id": "e6e96226-aa13-4874-ba1e-9ceae2b63ca6",
   "metadata": {},
   "outputs": [],
   "source": [
    "def get_patient_metadata(data):\n",
    "    dicom_fields = [\n",
    "        data[dcm_metadata_tags[i]].value for i in range(len(dcm_metadata_tags))\n",
    "    ] \n",
    "    return dicom_fields"
   ]
  },
  {
   "cell_type": "code",
   "execution_count": 39,
   "id": "14206cd4-c258-4485-8d60-52b4218fe549",
   "metadata": {},
   "outputs": [],
   "source": [
    "metadata_info = get_patient_metadata(test_dcm)\n",
    "# slice_id, patient_id, study_uid, series_uid = metadata_info"
   ]
  },
  {
   "cell_type": "code",
   "execution_count": 40,
   "id": "b6150ba9-7d9c-4c2a-947e-c6434255affe",
   "metadata": {},
   "outputs": [
    {
     "data": {
      "text/plain": [
       "['1.2.276.0.45.1.7.4.250977676261436.23040317252900189.19681',\n",
       " 'c0f78d33',\n",
       " '1.2.276.0.45.1.7.2.250977676261436.23040317252900187.19681',\n",
       " '1.2.276.0.45.1.7.3.250977676261436.23040317252900188.19681']"
      ]
     },
     "execution_count": 40,
     "metadata": {},
     "output_type": "execute_result"
    }
   ],
   "source": [
    "metadata_info"
   ]
  },
  {
   "cell_type": "code",
   "execution_count": 44,
   "id": "143cdaed-0434-4ecc-a72f-bb2a1038cb76",
   "metadata": {},
   "outputs": [],
   "source": [
    "metadata_dict = dict(zip(dcm_metadata_tags, metadata_info))"
   ]
  },
  {
   "cell_type": "code",
   "execution_count": 45,
   "id": "1b644b7e-6b0d-45e3-9fbc-1b2bf1b29a28",
   "metadata": {},
   "outputs": [
    {
     "data": {
      "text/plain": [
       "{'SOPInstanceUID': '1.2.276.0.45.1.7.4.250977676261436.23040317252900189.19681',\n",
       " 'PatientID': 'c0f78d33',\n",
       " 'StudyInstanceUID': '1.2.276.0.45.1.7.2.250977676261436.23040317252900187.19681',\n",
       " 'SeriesInstanceUID': '1.2.276.0.45.1.7.3.250977676261436.23040317252900188.19681'}"
      ]
     },
     "execution_count": 45,
     "metadata": {},
     "output_type": "execute_result"
    }
   ],
   "source": [
    "metadata_dict"
   ]
  },
  {
   "cell_type": "code",
   "execution_count": 46,
   "id": "cbd9afdc-fc7f-4afa-96d8-c4573f49a1f5",
   "metadata": {},
   "outputs": [],
   "source": [
    "metadata_df = pd.DataFrame([metadata_dict])"
   ]
  },
  {
   "cell_type": "code",
   "execution_count": 47,
   "id": "97d5cfa4-f150-4be9-8d50-c7b0e497ecbd",
   "metadata": {},
   "outputs": [
    {
     "data": {
      "text/html": [
       "<div>\n",
       "<style scoped>\n",
       "    .dataframe tbody tr th:only-of-type {\n",
       "        vertical-align: middle;\n",
       "    }\n",
       "\n",
       "    .dataframe tbody tr th {\n",
       "        vertical-align: top;\n",
       "    }\n",
       "\n",
       "    .dataframe thead th {\n",
       "        text-align: right;\n",
       "    }\n",
       "</style>\n",
       "<table border=\"1\" class=\"dataframe\">\n",
       "  <thead>\n",
       "    <tr style=\"text-align: right;\">\n",
       "      <th></th>\n",
       "      <th>SOPInstanceUID</th>\n",
       "      <th>PatientID</th>\n",
       "      <th>StudyInstanceUID</th>\n",
       "      <th>SeriesInstanceUID</th>\n",
       "    </tr>\n",
       "  </thead>\n",
       "  <tbody>\n",
       "    <tr>\n",
       "      <th>0</th>\n",
       "      <td>1.2.276.0.45.1.7.4.250977676261436.23040317252...</td>\n",
       "      <td>c0f78d33</td>\n",
       "      <td>1.2.276.0.45.1.7.2.250977676261436.23040317252...</td>\n",
       "      <td>1.2.276.0.45.1.7.3.250977676261436.23040317252...</td>\n",
       "    </tr>\n",
       "  </tbody>\n",
       "</table>\n",
       "</div>"
      ],
      "text/plain": [
       "                                      SOPInstanceUID PatientID   \n",
       "0  1.2.276.0.45.1.7.4.250977676261436.23040317252...  c0f78d33  \\\n",
       "\n",
       "                                    StudyInstanceUID   \n",
       "0  1.2.276.0.45.1.7.2.250977676261436.23040317252...  \\\n",
       "\n",
       "                                   SeriesInstanceUID  \n",
       "0  1.2.276.0.45.1.7.3.250977676261436.23040317252...  "
      ]
     },
     "execution_count": 47,
     "metadata": {},
     "output_type": "execute_result"
    }
   ],
   "source": [
    "metadata_df"
   ]
  },
  {
   "cell_type": "code",
   "execution_count": null,
   "id": "ab4b93bb",
   "metadata": {},
   "outputs": [],
   "source": []
  }
 ],
 "metadata": {
  "environment": {
   "kernel": "python3",
   "name": "tf2-gpu.2-8.m103",
   "type": "gcloud",
   "uri": "gcr.io/deeplearning-platform-release/tf2-gpu.2-8:m103"
  },
  "kernelspec": {
   "display_name": "Python 3 (ipykernel)",
   "language": "python",
   "name": "python3"
  },
  "language_info": {
   "codemirror_mode": {
    "name": "ipython",
    "version": 3
   },
   "file_extension": ".py",
   "mimetype": "text/x-python",
   "name": "python",
   "nbconvert_exporter": "python",
   "pygments_lexer": "ipython3",
   "version": "3.11.2"
  }
 },
 "nbformat": 4,
 "nbformat_minor": 5
}
