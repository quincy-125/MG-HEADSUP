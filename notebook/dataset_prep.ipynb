{
 "cells": [
  {
   "cell_type": "code",
   "execution_count": null,
   "id": "bb3fae02-c4b0-4501-88a8-35bee605a114",
   "metadata": {},
   "outputs": [],
   "source": [
    "import os\n",
    "import logging\n",
    "import subprocess\n",
    "from pathlib import Path"
   ]
  },
  {
   "cell_type": "code",
   "execution_count": null,
   "id": "b7c22b87-467c-4a4a-ae4e-53fdb784f2de",
   "metadata": {},
   "outputs": [],
   "source": [
    "def resolve_gcs_uri_to_local_uri(gcs_file_uri: str) -> str:\n",
    "    \"\"\"\n",
    "    Use an existing gcsfuse mountpoint, or use gcsfuse to mount a bucket\n",
    "    locally if not mountpoint exists, to get a local filepath for a file stored\n",
    "    in a GCS bucket.\n",
    "    Args:\n",
    "        gcs_file_uri (str): A \"gs:/...\" URI for a file stored in a GCS bucket.\n",
    "    Returns:\n",
    "        str: A string indicating a local filepath where gcs_file_uri can be\n",
    "        found.\n",
    "    \"\"\"\n",
    "    if not gcs_file_uri.startswith(\"gs:/\"):\n",
    "        raise Exception('Please use a \"gs:/\" GCS path.')\n",
    "\n",
    "    # Pathlib isn't wholly apposite to use for URLs (specifically, it changes\n",
    "    # 'gs://...' to 'gs:/...'), but it's useful in this case:\n",
    "    gcs_path = Path(gcs_file_uri)\n",
    "    bucket_name = gcs_path.parts[1]\n",
    "    file_remaining_path = Path(*gcs_path.parts[2:])\n",
    "    logging.info(\"Checking for existing mountpoint for %s...\", bucket_name)\n",
    "    existing_mountpoint_check = subprocess.run(\n",
    "        f'findmnt --noheadings --output TARGET --source \"{bucket_name}\"',\n",
    "        shell=True,\n",
    "        stdout=subprocess.PIPE,\n",
    "        stderr=subprocess.STDOUT,\n",
    "    )\n",
    "    existing_mountpoint_check_stdout = existing_mountpoint_check.stdout.decode().strip()\n",
    "\n",
    "    if existing_mountpoint_check.returncode == 127:\n",
    "        raise Exception(\n",
    "            f'Error when running findmnt: \"{existing_mountpoint_check_stdout}\"'\n",
    "        )\n",
    "\n",
    "    if (\n",
    "        existing_mountpoint_check.returncode == 0\n",
    "        and existing_mountpoint_check_stdout != \"\"\n",
    "    ):\n",
    "        # An existing mountpoint for the bucket exists; we will reuse it here,\n",
    "        # if it contains the file we're looking for (it's possible that the\n",
    "        # bucket is mounted, but to a different subdirectory within the bucket\n",
    "        # than we need).\n",
    "        for mountpoint in existing_mountpoint_check_stdout.split(\"\\n\"):\n",
    "            logging.info(\n",
    "                'Checking for file \"%s\" at \"%s\"...', file_remaining_path, mountpoint\n",
    "            )\n",
    "            if Path(mountpoint, file_remaining_path).exists():\n",
    "                found_file_path = os.path.join(mountpoint, file_remaining_path)\n",
    "                logging.info('Found file at \"%s\"', found_file_path)\n",
    "                return found_file_path\n",
    "\n",
    "    # No existing mountpoint exists, so we will mount the bucket with gcsfuse:\n",
    "    import tempfile\n",
    "\n",
    "    tmp_directory = tempfile.mkdtemp()\n",
    "    logging.info('Creating new mountpoint at \"%s\"...', tmp_directory)\n",
    "    mount_command = subprocess.run(\n",
    "        # Unexpectedly, using `f\"gcsfuse --implicit-dirs --only-dir {specific_bucket_directory} {bucket_name} {tmp_directory}\"`\n",
    "        # resulted in a mountpoint that was *unusably slow* when trying to,\n",
    "        # e.g., using `.get_thumbnail()`. Thus, here, we are not using\n",
    "        # `--only-dir.`\n",
    "        f\"gcsfuse --implicit-dirs {bucket_name} {tmp_directory}\",\n",
    "        shell=True,\n",
    "        stdout=subprocess.PIPE,\n",
    "        stderr=subprocess.STDOUT,\n",
    "    )\n",
    "    mount_command_stdout = mount_command.stdout.decode().strip()\n",
    "    if \"File system has been successfully mounted\" not in mount_command_stdout:\n",
    "        raise Exception(\n",
    "            f'Error when running gcsfuse: \"{mount_command_stdout}\". Exit code was {existing_mountpoint_check.returncode}.'\n",
    "        )\n",
    "\n",
    "    return os.path.join(tmp_directory, file_remaining_path)"
   ]
  },
  {
   "cell_type": "code",
   "execution_count": null,
   "id": "33d24214-fe93-4a3f-93b4-1721962bc0de",
   "metadata": {},
   "outputs": [],
   "source": [
    "base_path = resolve_gcs_uri_to_local_uri(gcs_file_uri=\"gs://...\")"
   ]
  },
  {
   "cell_type": "code",
   "execution_count": null,
   "id": "a072c6a8-938f-496b-bba2-fb12f9e99f13",
   "metadata": {},
   "outputs": [],
   "source": [
    "base_path"
   ]
  },
  {
   "cell_type": "code",
   "execution_count": null,
   "id": "9d8085bd-810e-409f-ab3f-674d36849214",
   "metadata": {},
   "outputs": [],
   "source": [
    "!kaggle competitions download -c rsna-intracranial-hemorrhage-detection"
   ]
  }
 ],
 "metadata": {
  "environment": {
   "kernel": "python3",
   "name": "tf2-gpu.2-8.m103",
   "type": "gcloud",
   "uri": "gcr.io/deeplearning-platform-release/tf2-gpu.2-8:m103"
  },
  "kernelspec": {
   "display_name": "Python 3 (ipykernel)",
   "language": "python",
   "name": "python3"
  },
  "language_info": {
   "codemirror_mode": {
    "name": "ipython",
    "version": 3
   },
   "file_extension": ".py",
   "mimetype": "text/x-python",
   "name": "python",
   "nbconvert_exporter": "python",
   "pygments_lexer": "ipython3",
   "version": "3.11.2"
  }
 },
 "nbformat": 4,
 "nbformat_minor": 5
}
