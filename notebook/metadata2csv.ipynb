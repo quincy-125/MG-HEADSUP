{
 "cells": [
  {
   "cell_type": "code",
   "execution_count": null,
   "id": "cc2a9c98-476b-4336-9f9b-fd439eb08693",
   "metadata": {},
   "outputs": [],
   "source": [
    "import os\n",
    "import numpy as np\n",
    "import pydicom as dcm\n",
    "import pandas as pd"
   ]
  },
  {
   "cell_type": "code",
   "execution_count": null,
   "id": "45a60d41-d724-4fa2-909f-8bea9d926959",
   "metadata": {},
   "outputs": [],
   "source": [
    "## load in dicom image data\n",
    "test_dcm = dcm.dcmread(\"test.dcm\")"
   ]
  },
  {
   "cell_type": "code",
   "execution_count": null,
   "id": "c39e6b8e-9feb-41ba-be50-26ffa6fc575d",
   "metadata": {},
   "outputs": [],
   "source": [
    "test_dcm"
   ]
  },
  {
   "cell_type": "code",
   "execution_count": null,
   "id": "e6e96226-aa13-4874-ba1e-9ceae2b63ca6",
   "metadata": {},
   "outputs": [],
   "source": [
    "def get_patient_metadata(data):\n",
    "    dicom_fields = [\n",
    "        data[('0008','0018')].value, #SOP Instance UID\n",
    "        data[('0010','0020')].value, #Patient ID\n",
    "        data[('0020','000d')].value, #Study Instance UID\n",
    "        data[('0020','000e')].value,] #Series Instance UID #slope\n",
    "    return dicom_fields"
   ]
  },
  {
   "cell_type": "code",
   "execution_count": null,
   "id": "14206cd4-c258-4485-8d60-52b4218fe549",
   "metadata": {},
   "outputs": [],
   "source": [
    "metadata_info = get_patient_metadata(test_dcm)\n",
    "metadata_info = [slice_id], [patient_id], [study_uid], [series_uid]"
   ]
  },
  {
   "cell_type": "code",
   "execution_count": null,
   "id": "b6150ba9-7d9c-4c2a-947e-c6434255affe",
   "metadata": {},
   "outputs": [],
   "source": [
    "slice_id, patient_id, study_uid, series_uid"
   ]
  },
  {
   "cell_type": "code",
   "execution_count": null,
   "id": "f8468230-a5b8-49e3-968e-08a134e638e7",
   "metadata": {},
   "outputs": [],
   "source": [
    "csv_columns = [\"Slice_ID\", \"Patient_ID\", \"Study_UID\", \"Series_UID\"]"
   ]
  },
  {
   "cell_type": "code",
   "execution_count": null,
   "id": "143cdaed-0434-4ecc-a72f-bb2a1038cb76",
   "metadata": {},
   "outputs": [],
   "source": [
    "metadata_dict = dict(zip(csv_columns, metadata_info))"
   ]
  },
  {
   "cell_type": "code",
   "execution_count": null,
   "id": "1b644b7e-6b0d-45e3-9fbc-1b2bf1b29a28",
   "metadata": {},
   "outputs": [],
   "source": [
    "metadata_dict"
   ]
  },
  {
   "cell_type": "code",
   "execution_count": null,
   "id": "cbd9afdc-fc7f-4afa-96d8-c4573f49a1f5",
   "metadata": {},
   "outputs": [],
   "source": [
    "metadata_df = pd.DataFrame.from_dict(metadata_dict)"
   ]
  },
  {
   "cell_type": "code",
   "execution_count": null,
   "id": "97d5cfa4-f150-4be9-8d50-c7b0e497ecbd",
   "metadata": {},
   "outputs": [],
   "source": [
    "metadata_df"
   ]
  }
 ],
 "metadata": {
  "environment": {
   "kernel": "python3",
   "name": "tf2-gpu.2-8.m103",
   "type": "gcloud",
   "uri": "gcr.io/deeplearning-platform-release/tf2-gpu.2-8:m103"
  },
  "kernelspec": {
   "display_name": "Python 3 (ipykernel)",
   "language": "python",
   "name": "python3"
  },
  "language_info": {
   "codemirror_mode": {
    "name": "ipython",
    "version": 3
   },
   "file_extension": ".py",
   "mimetype": "text/x-python",
   "name": "python",
   "nbconvert_exporter": "python",
   "pygments_lexer": "ipython3",
   "version": "3.7.12"
  }
 },
 "nbformat": 4,
 "nbformat_minor": 5
}
