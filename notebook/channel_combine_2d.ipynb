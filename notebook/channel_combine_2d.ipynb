{
 "cells": [
  {
   "cell_type": "code",
   "execution_count": null,
   "id": "48f661ab",
   "metadata": {},
   "outputs": [],
   "source": [
    "import numpy as np\n",
    "import pandas as pd\n",
    "import pydicom as dcm\n",
    "import matplotlib\n",
    "import matplotlib.pyplot as plt\n",
    "from PIL import Image"
   ]
  },
  {
   "cell_type": "code",
   "execution_count": null,
   "id": "e31ca139",
   "metadata": {},
   "outputs": [],
   "source": [
    "## load dicom image file for both positive and negative instances\n",
    "pos_dcm = dcm.dcmread(\"pos.dcm\")\n",
    "neg_dcm = dcm.dcmread(\"neg.dcm\")"
   ]
  },
  {
   "cell_type": "code",
   "execution_count": null,
   "id": "3afafd1a",
   "metadata": {},
   "outputs": [],
   "source": [
    "def dcm_bit_standardize(dcm):\n",
    "    x = dcm.pixel_array + 1000\n",
    "    px_mode = 4096\n",
    "    x[x >= px_mode] = x[x >= px_mode] - px_mode\n",
    "    dcm.PixelData = x.tobytes()\n",
    "    dcm.RescaleIntercept = -1000"
   ]
  },
  {
   "cell_type": "code",
   "execution_count": null,
   "id": "5c0329ba",
   "metadata": {},
   "outputs": [],
   "source": [
    "def window_image(dcm, window_center, window_width):\n",
    "    if (dcm.BitsStored == 12) and (dcm.PixelRepresentation == 0) and (int(dcm.RescaleIntercept) > -100):\n",
    "        print(\"Bit Standardization\")\n",
    "        dcm_bit_standardize(dcm)\n",
    "\n",
    "    img = dcm.pixel_array * dcm.RescaleSlope + dcm.RescaleIntercept\n",
    "    img_min = window_center - window_width // 2\n",
    "    img_max = window_center + window_width // 2\n",
    "    img = np.clip(img, img_min, img_max)\n",
    "\n",
    "    return img"
   ]
  },
  {
   "cell_type": "markdown",
   "id": "9406e7d5",
   "metadata": {},
   "source": [
    "### Brain Window Visualization"
   ]
  },
  {
   "cell_type": "markdown",
   "id": "bd4c1141",
   "metadata": {},
   "source": [
    "#### Positive Instance"
   ]
  },
  {
   "cell_type": "code",
   "execution_count": null,
   "id": "008ecfad",
   "metadata": {},
   "outputs": [],
   "source": [
    "## visualize dicom image instance in brain window\n",
    "pos_brain = window_image(pos_dcm, 40, 80)\n",
    "plt.imshow(pos_brain, cmap=plt.cm.gray)"
   ]
  },
  {
   "cell_type": "code",
   "execution_count": null,
   "id": "e7a8aaa5",
   "metadata": {},
   "outputs": [],
   "source": [
    "## visualize normalized brain window image\n",
    "norm_pos_brain = (pos_brain - 0) / 80\n",
    "plt.imshow(norm_pos_brain, cmap=plt.cm.gray)"
   ]
  },
  {
   "cell_type": "markdown",
   "id": "fe2bccab",
   "metadata": {},
   "source": [
    "#### Negative Instance"
   ]
  },
  {
   "cell_type": "code",
   "execution_count": null,
   "id": "5e599d55",
   "metadata": {},
   "outputs": [],
   "source": [
    "## visualize dicom image instance in brain window\n",
    "neg_brain = window_image(neg_dcm, 40, 80)\n",
    "plt.imshow(neg_brain, cmap=plt.cm.gray)"
   ]
  },
  {
   "cell_type": "code",
   "execution_count": null,
   "id": "1d5b21c9",
   "metadata": {},
   "outputs": [],
   "source": [
    "## visualize normalized brain window image\n",
    "norm_neg_brain = (neg_brain - 0) / 80\n",
    "plt.imshow(norm_neg_brain, cmap=plt.cm.gray)"
   ]
  },
  {
   "cell_type": "markdown",
   "id": "dfed4d04",
   "metadata": {},
   "source": [
    "### Subdural Window Visualization"
   ]
  },
  {
   "cell_type": "markdown",
   "id": "dc85cbdf",
   "metadata": {},
   "source": [
    "#### Positive Instance"
   ]
  },
  {
   "cell_type": "code",
   "execution_count": null,
   "id": "4e543d05",
   "metadata": {},
   "outputs": [],
   "source": [
    "## visualize dicom image instance in subdural window\n",
    "pos_subdural = window_image(pos_dcm, 80, 200)\n",
    "plt.imshow(pos_subdural, cmap=plt.cm.gray)"
   ]
  },
  {
   "cell_type": "code",
   "execution_count": null,
   "id": "fd605433",
   "metadata": {},
   "outputs": [],
   "source": [
    "## visualize normalized subdural window image\n",
    "norm_pos_subdural = (pos_subdural - (-20)) / 200\n",
    "plt.imshow(norm_pos_subdural, cmap=plt.cm.gray)"
   ]
  },
  {
   "cell_type": "markdown",
   "id": "1dcb2053",
   "metadata": {},
   "source": [
    "#### Negative Instance"
   ]
  },
  {
   "cell_type": "code",
   "execution_count": null,
   "id": "ae75a04a",
   "metadata": {},
   "outputs": [],
   "source": [
    "## visualize dicom image instance in subdural window\n",
    "neg_subdural = window_image(neg_dcm, 80, 200)\n",
    "plt.imshow(neg_subdural, cmap=plt.cm.gray)"
   ]
  },
  {
   "cell_type": "code",
   "execution_count": null,
   "id": "3e345ca7",
   "metadata": {},
   "outputs": [],
   "source": [
    "## visualize normalized subdural window image\n",
    "norm_neg_subdural = (neg_subdural - (-20)) / 200\n",
    "plt.imshow(norm_neg_subdural, cmap=plt.cm.gray)"
   ]
  },
  {
   "cell_type": "markdown",
   "id": "d926d760",
   "metadata": {},
   "source": [
    "### Soft Tissue Window Visualization"
   ]
  },
  {
   "cell_type": "markdown",
   "id": "808ddd11",
   "metadata": {},
   "source": [
    "#### Positive Instance"
   ]
  },
  {
   "cell_type": "code",
   "execution_count": null,
   "id": "f78641fd",
   "metadata": {},
   "outputs": [],
   "source": [
    "## visualize dicom image instance in soft tissue window\n",
    "pos_soft = window_image(pos_dcm, 40, 380)\n",
    "plt.imshow(pos_soft, cmap=plt.cm.gray)"
   ]
  },
  {
   "cell_type": "code",
   "execution_count": null,
   "id": "d152a1c2",
   "metadata": {},
   "outputs": [],
   "source": [
    "## visualize normalized soft tissue window image\n",
    "norm_pos_soft= (pos_soft - (-150)) / 380\n",
    "plt.imshow(norm_pos_soft, cmap=plt.cm.gray)"
   ]
  },
  {
   "cell_type": "markdown",
   "id": "89b42b57",
   "metadata": {},
   "source": [
    "#### Negative Instance"
   ]
  },
  {
   "cell_type": "code",
   "execution_count": null,
   "id": "bbf96795",
   "metadata": {},
   "outputs": [],
   "source": [
    "## visualize dicom image instance in soft tissue window\n",
    "neg_soft = window_image(neg_dcm, 40, 380)\n",
    "plt.imshow(neg_soft, cmap=plt.cm.gray)"
   ]
  },
  {
   "cell_type": "code",
   "execution_count": null,
   "id": "658d374b",
   "metadata": {},
   "outputs": [],
   "source": [
    "## visualize normalized soft tissue window image\n",
    "norm_neg_soft= (neg_soft - (-150)) / 380\n",
    "plt.imshow(norm_neg_soft, cmap=plt.cm.gray)"
   ]
  },
  {
   "cell_type": "code",
   "execution_count": null,
   "id": "bbe859f4",
   "metadata": {},
   "outputs": [],
   "source": [
    "def channel_combine(dcm):\n",
    "    brain_img = window_image(dcm, 40, 80)\n",
    "    subdural_img = window_image(dcm, 80, 200)\n",
    "    soft_img = window_image(dcm, 40, 380)\n",
    "\n",
    "    brain_img = (brain_img - 0) / 80\n",
    "    subdural_img = (subdural_img - (-20)) / 200\n",
    "    soft_img = (soft_img - (-150)) / 380\n",
    "    \n",
    "    combined_img = np.array([brain_img, subdural_img, soft_img]).transpose(1, 2, 0)\n",
    "\n",
    "    return combined_img"
   ]
  },
  {
   "cell_type": "markdown",
   "id": "29cca0e4",
   "metadata": {},
   "source": [
    "### Positive Instance"
   ]
  },
  {
   "cell_type": "code",
   "execution_count": null,
   "id": "61be5c8b",
   "metadata": {},
   "outputs": [],
   "source": [
    "## Visualize the combined channel Image\n",
    "pos_combined = channel_combine(pos_dcm)\n",
    "plt.imshow(pos_combined, cmap=plt.cm.gray)"
   ]
  },
  {
   "cell_type": "markdown",
   "id": "85be9232",
   "metadata": {},
   "source": [
    "### Negative Instance"
   ]
  },
  {
   "cell_type": "code",
   "execution_count": null,
   "id": "466e0f4b",
   "metadata": {},
   "outputs": [],
   "source": [
    "## Visualize the combined channel Image\n",
    "neg_combined = channel_combine(neg_dcm)\n",
    "plt.imshow(neg_combined, cmap=plt.cm.gray)"
   ]
  },
  {
   "cell_type": "markdown",
   "id": "10167fb4",
   "metadata": {},
   "source": [
    "### Familiar Instance"
   ]
  },
  {
   "cell_type": "code",
   "execution_count": null,
   "id": "583f2feb",
   "metadata": {},
   "outputs": [],
   "source": [
    "test_dcm = dcm.dcmread(\"test.dcm\")"
   ]
  },
  {
   "cell_type": "markdown",
   "id": "2cab2955",
   "metadata": {},
   "source": [
    "### Brain Window"
   ]
  },
  {
   "cell_type": "code",
   "execution_count": null,
   "id": "c6d689e8",
   "metadata": {},
   "outputs": [],
   "source": [
    "## visualize dicom image instance in brain window\n",
    "test_brain = window_image(test_dcm, 40, 80)\n",
    "plt.imshow(test_brain, cmap=plt.cm.gray)"
   ]
  },
  {
   "cell_type": "code",
   "execution_count": null,
   "id": "1f8360a3",
   "metadata": {},
   "outputs": [],
   "source": [
    "## visualize normalized brain window image\n",
    "norm_test_brain = (test_brain - 0) / 80\n",
    "plt.imshow(norm_test_brain, cmap=plt.cm.gray)"
   ]
  },
  {
   "cell_type": "markdown",
   "id": "98a0dcb7",
   "metadata": {},
   "source": [
    "### Subdural Window"
   ]
  },
  {
   "cell_type": "code",
   "execution_count": null,
   "id": "cfd2c854",
   "metadata": {},
   "outputs": [],
   "source": [
    "## visualize dicom image instance in subdural window\n",
    "test_subdural = window_image(test_dcm, 80, 200)\n",
    "plt.imshow(test_subdural, cmap=plt.cm.gray)"
   ]
  },
  {
   "cell_type": "code",
   "execution_count": null,
   "id": "4f56aa14",
   "metadata": {},
   "outputs": [],
   "source": [
    "## visualize normalized subdural window image\n",
    "norm_test_subdural = (test_subdural - (-20)) / 200\n",
    "plt.imshow(norm_test_subdural, cmap=plt.cm.gray)"
   ]
  },
  {
   "cell_type": "markdown",
   "id": "782abb1d",
   "metadata": {},
   "source": [
    "### Soft Tissue Window"
   ]
  },
  {
   "cell_type": "code",
   "execution_count": null,
   "id": "95ecbc61",
   "metadata": {},
   "outputs": [],
   "source": [
    "## visualize dicom image instance in soft tissue window\n",
    "test_soft = window_image(test_dcm, 40, 380)\n",
    "plt.imshow(test_soft, cmap=plt.cm.gray)"
   ]
  },
  {
   "cell_type": "code",
   "execution_count": null,
   "id": "d0c02416",
   "metadata": {},
   "outputs": [],
   "source": [
    "## visualize normalized soft tissue window image\n",
    "norm_test_soft= (test_soft - (-150)) / 380\n",
    "plt.imshow(norm_test_soft, cmap=plt.cm.gray)"
   ]
  },
  {
   "cell_type": "markdown",
   "id": "8d67d42d",
   "metadata": {},
   "source": [
    "### Combined Channel"
   ]
  },
  {
   "cell_type": "code",
   "execution_count": null,
   "id": "1c4ae141",
   "metadata": {},
   "outputs": [],
   "source": [
    "## Visualize the combined channel Image\n",
    "test_combined = channel_combine(test_dcm)\n",
    "plt.imshow(test_combined, cmap=plt.cm.gray)"
   ]
  },
  {
   "attachments": {},
   "cell_type": "markdown",
   "id": "4af323b1",
   "metadata": {},
   "source": [
    "#### Image Blurring - Gaussian Blurring"
   ]
  },
  {
   "cell_type": "code",
   "execution_count": null,
   "id": "eaf403e3-2c31-437e-9e00-8c7959216a75",
   "metadata": {},
   "outputs": [],
   "source": [
    "from PIL import Image, ImageFilter "
   ]
  },
  {
   "cell_type": "code",
   "execution_count": null,
   "id": "5189a18d-1ed2-4aba-85cb-eecff149521d",
   "metadata": {},
   "outputs": [],
   "source": [
    "from scipy.ndimage.filters import gaussian_filter\n",
    "brain_blurred = gaussian_filter(norm_test_brain, sigma=4)\n",
    "soft_blurred = gaussian_filter(norm_test_soft, sigma=4)\n",
    "subdural_blurred = gaussian_filter(norm_test_subdural, sigma=4)"
   ]
  },
  {
   "cell_type": "code",
   "execution_count": null,
   "id": "7bf9a9de-03fb-4138-a988-294dc63da085",
   "metadata": {},
   "outputs": [],
   "source": [
    "combined_blurred = np.array([brain_blurred, subdural_blurred, soft_blurred]).transpose(1, 2, 0)"
   ]
  },
  {
   "cell_type": "code",
   "execution_count": null,
   "id": "2446e4c6-f6e7-4a1a-bf6e-a62090167035",
   "metadata": {},
   "outputs": [],
   "source": [
    "plt.imshow(combined_blurred)"
   ]
  }
 ],
 "metadata": {
  "environment": {
   "kernel": "python3",
   "name": "tf2-gpu.2-8.m103",
   "type": "gcloud",
   "uri": "gcr.io/deeplearning-platform-release/tf2-gpu.2-8:m103"
  },
  "kernelspec": {
   "display_name": "Python 3 (ipykernel)",
   "language": "python",
   "name": "python3"
  },
  "language_info": {
   "codemirror_mode": {
    "name": "ipython",
    "version": 3
   },
   "file_extension": ".py",
   "mimetype": "text/x-python",
   "name": "python",
   "nbconvert_exporter": "python",
   "pygments_lexer": "ipython3",
   "version": "3.7.12"
  }
 },
 "nbformat": 4,
 "nbformat_minor": 5
}
