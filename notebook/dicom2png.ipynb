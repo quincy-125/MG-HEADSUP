{
 "cells": [
  {
   "cell_type": "code",
   "execution_count": null,
   "id": "ca6ebd47-d985-40ad-8d05-f0bfbc585981",
   "metadata": {
    "vscode": {
     "languageId": "python"
    }
   },
   "outputs": [],
   "source": [
    "import os\n",
    "import numpy as np\n",
    "import pydicom as dcm\n",
    "import matplotlib\n",
    "import matplotlib.pyplot as plt\n",
    "from PIL import Image"
   ]
  },
  {
   "cell_type": "code",
   "execution_count": null,
   "id": "73e51052-0d4f-45a7-bb77-d9deb5ae536f",
   "metadata": {
    "vscode": {
     "languageId": "python"
    }
   },
   "outputs": [],
   "source": [
    "## load in dicom image data\n",
    "test_dcm = dcm.dcmread(\"test.dcm\")"
   ]
  },
  {
   "cell_type": "code",
   "execution_count": null,
   "id": "9624cf41-3996-497f-bf98-8b25dfae4fc2",
   "metadata": {
    "vscode": {
     "languageId": "python"
    }
   },
   "outputs": [],
   "source": [
    "test_dcm"
   ]
  },
  {
   "cell_type": "code",
   "execution_count": null,
   "id": "524c312b-1282-4675-8c86-6fdb01aecd46",
   "metadata": {
    "vscode": {
     "languageId": "python"
    }
   },
   "outputs": [],
   "source": [
    "## load dicom image instance\n",
    "test_img = test_dcm.pixel_array"
   ]
  },
  {
   "cell_type": "code",
   "execution_count": null,
   "id": "ed091bd8-6589-4f8e-8eb3-1c26e5ce8083",
   "metadata": {
    "vscode": {
     "languageId": "python"
    }
   },
   "outputs": [],
   "source": [
    "test_img.shape"
   ]
  },
  {
   "cell_type": "code",
   "execution_count": null,
   "id": "73946ed7-2f6e-40e7-87bd-971ca307f839",
   "metadata": {
    "vscode": {
     "languageId": "python"
    }
   },
   "outputs": [],
   "source": [
    "## view dicom image in Bone Window\n",
    "plt.imshow(test_img, cmap=plt.cm.bone)"
   ]
  },
  {
   "cell_type": "code",
   "execution_count": null,
   "id": "7ea36d9a-7fa6-49ce-9128-962ace31576c",
   "metadata": {
    "vscode": {
     "languageId": "python"
    }
   },
   "outputs": [],
   "source": [
    "## visualize dicom image instance in gray colormap\n",
    "plt.imshow(test_img, cmap=plt.cm.gray)"
   ]
  },
  {
   "cell_type": "code",
   "execution_count": null,
   "id": "45e79127-8243-457a-a313-79a3691a3969",
   "metadata": {
    "vscode": {
     "languageId": "python"
    }
   },
   "outputs": [],
   "source": [
    "# Function to take care of teh translation and windowing. \n",
    "def window_image(img, window_center, window_width, intercept, slope, rescale=True):\n",
    "    img = (img*slope +intercept) #for translation adjustments given in the dicom file. \n",
    "    img_min = window_center - window_width//2 #minimum HU level\n",
    "    img_max = window_center + window_width//2 #maximum HU level\n",
    "    img[img<img_min] = img_min #set img_min for all HU levels less than minimum HU level\n",
    "    img[img>img_max] = img_max #set img_max for all HU levels higher than maximum HU level\n",
    "    if rescale: \n",
    "        img = (img - img_min) / (img_max - img_min)*255.0 \n",
    "    return img\n",
    "    \n",
    "def get_first_of_dicom_field_as_int(x):\n",
    "    #get x[0] as in int is x is a 'pydicom.multival.MultiValue', otherwise get int(x)\n",
    "    if type(x) == dcm.multival.MultiValue: return int(x[0])\n",
    "    else: return int(x)\n",
    "    \n",
    "def get_windowing(data):\n",
    "    dicom_fields = [data[('0028','1050')].value, #window center\n",
    "                    data[('0028','1051')].value, #window width\n",
    "                    data[('0028','1052')].value, #intercept\n",
    "                    data[('0028','1053')].value] #slope\n",
    "    return [get_first_of_dicom_field_as_int(x) for x in dicom_fields]"
   ]
  },
  {
   "cell_type": "code",
   "execution_count": null,
   "id": "1519b024-f592-4cb9-a531-d6ae5cf1876e",
   "metadata": {
    "vscode": {
     "languageId": "python"
    }
   },
   "outputs": [],
   "source": [
    "window_center , window_width, intercept, slope = get_windowing(test_dcm)\n",
    "window_center , window_width, intercept, slope"
   ]
  },
  {
   "cell_type": "code",
   "execution_count": null,
   "id": "15e892ad-dd82-40fd-bee6-cc8f3c8048fa",
   "metadata": {
    "vscode": {
     "languageId": "python"
    }
   },
   "outputs": [],
   "source": [
    "test_win_img = window_image(test_img, window_center, window_width, intercept, slope, rescale=True)"
   ]
  },
  {
   "cell_type": "code",
   "execution_count": null,
   "id": "e3aa7ea7-2e51-436a-9d86-566796d8fd5f",
   "metadata": {
    "vscode": {
     "languageId": "python"
    }
   },
   "outputs": [],
   "source": [
    "plt.imshow(test_win_img, cmap=plt.cm.gray)"
   ]
  },
  {
   "cell_type": "code",
   "execution_count": null,
   "id": "d2ca0c33-3fee-4935-80ca-b8b68288198c",
   "metadata": {
    "vscode": {
     "languageId": "python"
    }
   },
   "outputs": [],
   "source": [
    "## manually adjust the window rage to visualize the image in bone window\n",
    "window_center , window_width, intercept, slope = 300, 1500, -1024, 1\n",
    "test_win_img = window_image(test_img, window_center, window_width, intercept, slope, rescale=True)\n",
    "plt.imshow(test_win_img, cmap=plt.cm.gray)"
   ]
  },
  {
   "cell_type": "code",
   "execution_count": null,
   "id": "80dd8294-e669-4c17-9074-b57a2f83a39d",
   "metadata": {
    "vscode": {
     "languageId": "python"
    }
   },
   "outputs": [],
   "source": [
    "## directly converted PNG format image instance\n",
    "Image.open(\"ori.png\")"
   ]
  }
 ],
 "metadata": {
  "environment": {
   "kernel": "",
   "name": "tf2-gpu.2-8.m103",
   "type": "gcloud",
   "uri": "gcr.io/deeplearning-platform-release/tf2-gpu.2-8:m103"
  },
  "kernelspec": {
   "display_name": "",
   "name": ""
  },
  "language_info": {
   "name": ""
  }
 },
 "nbformat": 4,
 "nbformat_minor": 5
}
