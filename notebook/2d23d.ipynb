{
 "cells": [
  {
   "cell_type": "code",
   "execution_count": null,
   "id": "124decba-f96e-4956-a9f9-7ab564293596",
   "metadata": {},
   "outputs": [],
   "source": [
    "import pydicom as dcm\n",
    "import pandas as pd\n",
    "import numpy as np\n",
    "import os\n",
    "import matplotlib.pyplot as plt\n",
    "from mpl_toolkits.mplot3d import Axes3D\n",
    "from mpl_toolkits.mplot3d.art3d import Poly3DCollection\n",
    "import skimage\n",
    "from skimage import measure"
   ]
  },
  {
   "cell_type": "code",
   "execution_count": null,
   "id": "e42036cb-25ee-46dd-993c-9081f97d2706",
   "metadata": {},
   "outputs": [],
   "source": [
    "## explore metadata\n",
    "mdata = pd.read_csv(\"metadata.csv\")\n",
    "mdata"
   ]
  },
  {
   "cell_type": "code",
   "execution_count": null,
   "id": "d38aa7ad-fe57-4438-a7c0-15762ab9caa8",
   "metadata": {},
   "outputs": [],
   "source": [
    "len(np.unique(mdata[\"Patient ID\"])), len(np.unique(mdata[\"Study Instance UID\"])), len(np.unique(mdata[\"Series Instance UID\"]))"
   ]
  },
  {
   "cell_type": "code",
   "execution_count": null,
   "id": "f1e1150b-94aa-452b-94ab-b719dd5c9a9d",
   "metadata": {},
   "outputs": [],
   "source": [
    "unique_series_uids = list(np.unique(mdata[\"Series Instance UID\"]))"
   ]
  },
  {
   "cell_type": "code",
   "execution_count": null,
   "id": "0268ae37-3701-4b82-9677-b43993884fe5",
   "metadata": {},
   "outputs": [],
   "source": [
    "duplicate_series_uids = list()\n",
    "for i in unique_series_uids:\n",
    "    if np.count_nonzero(np.asarray(mdata[\"Series Instance UID\"]) == i) > 2:\n",
    "        duplicate_series_uids.append(i)"
   ]
  },
  {
   "cell_type": "code",
   "execution_count": null,
   "id": "9372629e-e56a-4a6d-9138-7df031d28365",
   "metadata": {},
   "outputs": [],
   "source": [
    "duplicate_mdata = mdata[mdata[\"Series Instance UID\"].isin(duplicate_series_uids)]\n",
    "duplicate_mdata"
   ]
  },
  {
   "cell_type": "code",
   "execution_count": null,
   "id": "78e16caa-bd09-4098-9e6d-091ecf2061db",
   "metadata": {},
   "outputs": [],
   "source": [
    "test_mdata = mdata[mdata[\"Series Instance UID\"]==duplicate_series_uids[8]]\n",
    "test_mdata"
   ]
  },
  {
   "cell_type": "code",
   "execution_count": null,
   "id": "aec1cc06-1ab8-4f42-8436-9953180d8400",
   "metadata": {},
   "outputs": [],
   "source": [
    "test_dcm_ids = list(test_mdata[\"SOP Instance UID\"])\n",
    "test_dcm_ids"
   ]
  },
  {
   "cell_type": "code",
   "execution_count": null,
   "id": "0e812575-fc4e-427d-8bef-3e12a4b8ce1c",
   "metadata": {},
   "outputs": [],
   "source": [
    "## transfer testing dicom images to local\n",
    "for i in test_dcm_ids:\n",
    "    os.system(f\"gsutil -m cp gs://rsna_hemorrhage/dataset/stage_2_train/{i}.dcm .\")"
   ]
  },
  {
   "cell_type": "code",
   "execution_count": null,
   "id": "e5971d86-3cdd-4e96-b8a9-fe31e6b7c440",
   "metadata": {},
   "outputs": [],
   "source": [
    "def window_image(dcm, window_key, window_dict):\n",
    "    window_center, window_width = window_dict[window_key]\n",
    "    if (dcm.BitsStored == 12) and (dcm.PixelRepresentation == 0) and (int(dcm.RescaleIntercept) > -100):\n",
    "        print(\"Bit Standardization\")\n",
    "        dcm_bit_standardize(dcm)\n",
    "\n",
    "    img = dcm.pixel_array * dcm.RescaleSlope + dcm.RescaleIntercept\n",
    "    img_min = window_center - window_width // 2\n",
    "    img_max = window_center + window_width // 2\n",
    "    img = np.clip(img, img_min, img_max)\n",
    "\n",
    "    return img"
   ]
  },
  {
   "cell_type": "code",
   "execution_count": null,
   "id": "0589a7f0-9331-40cc-b5f6-529bcc41670c",
   "metadata": {},
   "outputs": [],
   "source": [
    "window_dict = {\n",
    "    \"brain\": [40, 80],\n",
    "    \"subdural\": [80, 200],\n",
    "    \"soft_tissue\": [40, 380]\n",
    "}"
   ]
  },
  {
   "cell_type": "code",
   "execution_count": null,
   "id": "f1d649e6-67b2-4fca-a350-22b1a987532f",
   "metadata": {},
   "outputs": [],
   "source": [
    "scans = [dcm.dcmread(f\"{i}.dcm\") for i in test_dcm_ids]"
   ]
  },
  {
   "cell_type": "code",
   "execution_count": null,
   "id": "9a6352d4-b5bb-432c-9b5b-4144fbbc6567",
   "metadata": {},
   "outputs": [],
   "source": [
    "test_dcm_imgs = [dcm.dcmread(f\"{i}.dcm\").pixel_array for i in test_dcm_ids]\n",
    "# test_dcm_imgs = [window_image(i, \"brain\", window_dict) for i in scans]\n",
    "# test_dcm_imgs = [window_image(i, \"subdural\", window_dict) for i in scans]\n",
    "# test_dcm_imgs = [window_image(i, \"soft_tissue\", window_dict) for i in scans]"
   ]
  },
  {
   "cell_type": "code",
   "execution_count": null,
   "id": "391329d9-18bd-4d9d-b193-11621a38d51e",
   "metadata": {},
   "outputs": [],
   "source": [
    "reconstruct_3d = np.stack(test_dcm_imgs[z] for z in range(len(test_dcm_ids)))\n",
    "reconstruct_3d = reconstruct_3d.astype(np.int16)\n",
    "reconstruct_3d[reconstruct_3d == -2000] = 0\n",
    "intercept = scans[0].RescaleIntercept\n",
    "slope = scans[0].RescaleSlope\n",
    "if slope != 1:\n",
    "    reconstruct_3d = slope * reconstruct_3d.astype(np.float64)\n",
    "    reconstruct_3d = reconstruct_3d.astype(np.int16)\n",
    "\n",
    "reconstruct_3d += np.int16(intercept)\n",
    "reconstruct_3d = np.array(reconstruct_3d, dtype=np.int16)"
   ]
  },
  {
   "cell_type": "code",
   "execution_count": null,
   "id": "7db59947-9807-4d98-bb1a-6d899d90cf8a",
   "metadata": {},
   "outputs": [],
   "source": [
    "for i in range(len(test_dcm_ids)):\n",
    "    plt.imshow(test_dcm_imgs[i], cmap=plt.cm.gray)\n",
    "    plt.savefig(f\"data/{i}.png\")"
   ]
  },
  {
   "cell_type": "code",
   "execution_count": null,
   "id": "7d18b930-b959-45f1-913d-8905b5a031ff",
   "metadata": {},
   "outputs": [],
   "source": [
    "plt.imshow(reconstruct_3d.transpose(2,1,0), cmap=plt.cm.gray)"
   ]
  },
  {
   "cell_type": "code",
   "execution_count": null,
   "id": "42e3db67-a189-4721-bda6-3eeb23d9306f",
   "metadata": {},
   "outputs": [],
   "source": [
    "def plot_3d(image, threshold=-300): \n",
    "    p = image.transpose(2,1,0)\n",
    "    verts, faces, normals, values = measure.marching_cubes(p, threshold)\n",
    "    fig = plt.figure(figsize=(10, 10))\n",
    "    ax = fig.add_subplot(111, projection='3d')\n",
    "    mesh = Poly3DCollection(verts[faces], alpha=0.1)\n",
    "    face_color = [0.5, 0.5, 1]\n",
    "    mesh.set_facecolor(face_color)\n",
    "    ax.add_collection3d(mesh)\n",
    "    ax.set_xlim(0, p.shape[0])\n",
    "    ax.set_ylim(0, p.shape[1])\n",
    "    ax.set_zlim(0, p.shape[2])\n",
    "\n",
    "    plt.show()"
   ]
  },
  {
   "cell_type": "code",
   "execution_count": null,
   "id": "6b3cc2cd-69de-4c47-b3b7-d2d247e1443c",
   "metadata": {},
   "outputs": [],
   "source": [
    "plot_3d(image=reconstruct_3d, threshold=-300)"
   ]
  },
  {
   "cell_type": "code",
   "execution_count": null,
   "id": "814c6afd-82a6-4188-9422-1302bf3fe3f3",
   "metadata": {},
   "outputs": [],
   "source": [
    "import cv2\n",
    "import os\n",
    "\n",
    "image_folder = 'data'\n",
    "video_name = 'video.avi'\n",
    "\n",
    "images = [img for img in os.listdir(image_folder) if img.endswith(\".png\")]\n",
    "frame = cv2.imread(os.path.join(image_folder, images[0]))\n",
    "\n",
    "height, width, layers = frame.shape\n",
    "\n",
    "video = cv2.VideoWriter(video_name, 0, 1, (width,height))\n",
    "\n",
    "for image in images:\n",
    "    video.write(cv2.imread(os.path.join(image_folder, image)))\n",
    "\n",
    "cv2.destroyAllWindows()\n",
    "video.release()"
   ]
  },
  {
   "cell_type": "code",
   "execution_count": null,
   "id": "da343071-a753-4b8b-8c9a-44a289315f69",
   "metadata": {},
   "outputs": [],
   "source": []
  }
 ],
 "metadata": {
  "environment": {
   "kernel": "python3",
   "name": "tf2-gpu.2-8.m103",
   "type": "gcloud",
   "uri": "gcr.io/deeplearning-platform-release/tf2-gpu.2-8:m103"
  },
  "kernelspec": {
   "display_name": "Python 3 (ipykernel)",
   "language": "python",
   "name": "python3"
  },
  "language_info": {
   "codemirror_mode": {
    "name": "ipython",
    "version": 3
   },
   "file_extension": ".py",
   "mimetype": "text/x-python",
   "name": "python",
   "nbconvert_exporter": "python",
   "pygments_lexer": "ipython3",
   "version": "3.7.12"
  }
 },
 "nbformat": 4,
 "nbformat_minor": 5
}
