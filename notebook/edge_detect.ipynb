{
 "cells": [
  {
   "cell_type": "code",
   "execution_count": null,
   "id": "3f24a894-4f39-4b3e-83f0-9ef5ae482fea",
   "metadata": {},
   "outputs": [],
   "source": [
    "import pydicom as dcm\n",
    "import os\n",
    "import numpy as np\n",
    "import matplotlib.pyplot as plt"
   ]
  },
  {
   "cell_type": "code",
   "execution_count": null,
   "id": "dd73e93f-ecbd-44f9-b5bf-5aaf6b70d022",
   "metadata": {},
   "outputs": [],
   "source": [
    "test = dcm.read_file(\"test\")"
   ]
  },
  {
   "cell_type": "code",
   "execution_count": null,
   "id": "ad4b535b-3b0d-42c4-80e0-2b9f45c0dde0",
   "metadata": {},
   "outputs": [],
   "source": [
    "test_ary = test.pixel_array"
   ]
  },
  {
   "cell_type": "code",
   "execution_count": null,
   "id": "d5e233bc-6a04-48d1-97d4-5d18c8e16d8b",
   "metadata": {},
   "outputs": [],
   "source": [
    "test_ary.shape"
   ]
  },
  {
   "cell_type": "code",
   "execution_count": null,
   "id": "c9cc701c-b8a0-49fa-a827-af1e3dec4fa4",
   "metadata": {},
   "outputs": [],
   "source": [
    "plt.imshow(test_ary, cmap=plt.cm.gray)"
   ]
  },
  {
   "cell_type": "code",
   "execution_count": null,
   "id": "da74b04b-637d-42c6-bfce-69d7e09dd0b9",
   "metadata": {},
   "outputs": [],
   "source": [
    "# Function to take care of teh translation and windowing. \n",
    "def window_image(img, window_center, window_width, intercept, slope, rescale=True):\n",
    "    img = (img*slope +intercept) #for translation adjustments given in the dicom file. \n",
    "    img_min = window_center - window_width//2 #minimum HU level\n",
    "    img_max = window_center + window_width//2 #maximum HU level\n",
    "    img[img<img_min] = img_min #set img_min for all HU levels less than minimum HU level\n",
    "    img[img>img_max] = img_max #set img_max for all HU levels higher than maximum HU level\n",
    "    if rescale: \n",
    "        img = (img - img_min) / (img_max - img_min)*255.0 \n",
    "    return img\n",
    "    \n",
    "def get_first_of_dicom_field_as_int(x):\n",
    "    #get x[0] as in int is x is a 'pydicom.multival.MultiValue', otherwise get int(x)\n",
    "    if type(x) == dcm.multival.MultiValue: return int(x[0])\n",
    "    else: return int(x)\n",
    "    \n",
    "def get_windowing(data):\n",
    "    dicom_fields = [data[('0028','1050')].value, #window center\n",
    "                    data[('0028','1051')].value, #window width\n",
    "                    data[('0028','1052')].value, #intercept\n",
    "                    data[('0028','1053')].value] #slope\n",
    "    return [get_first_of_dicom_field_as_int(x) for x in dicom_fields]"
   ]
  },
  {
   "cell_type": "code",
   "execution_count": null,
   "id": "939bd7d3-0b94-409b-b3f0-2a297eb844ae",
   "metadata": {},
   "outputs": [],
   "source": [
    "image=test_ary"
   ]
  },
  {
   "cell_type": "code",
   "execution_count": null,
   "id": "2a03e1c9-0e49-44f2-a12d-6c684a27c5c6",
   "metadata": {},
   "outputs": [],
   "source": [
    "window_center , window_width, intercept, slope = get_windowing(test)\n",
    "window_center , window_width, intercept, slope"
   ]
  },
  {
   "cell_type": "code",
   "execution_count": null,
   "id": "7fbce22a-b4d2-4948-8ebc-322e54f88bb8",
   "metadata": {},
   "outputs": [],
   "source": [
    "image = window_image(image, window_center, window_width, intercept, slope, rescale=True)"
   ]
  },
  {
   "cell_type": "code",
   "execution_count": null,
   "id": "8092904b-eb1b-42dc-a9fb-5b30c4cd6418",
   "metadata": {},
   "outputs": [],
   "source": [
    "import numpy as np\n",
    "import matplotlib.pyplot as plt\n",
    "from scipy import ndimage as ndi\n",
    "from skimage.util import random_noise\n",
    "from skimage import feature\n",
    "\n",
    "# Compute the Canny filter for two values of sigma\n",
    "edges1 = feature.canny(image)\n",
    "edges2 = feature.canny(image, sigma=3)\n",
    "\n",
    "# display results\n",
    "fig, ax = plt.subplots(nrows=1, ncols=3, figsize=(8, 3))\n",
    "\n",
    "ax[0].imshow(image, cmap='gray')\n",
    "ax[0].set_title('noisy image', fontsize=20)\n",
    "\n",
    "ax[1].imshow(edges1, cmap='gray')\n",
    "ax[1].set_title(r'Canny filter, $\\sigma=1$', fontsize=20)\n",
    "\n",
    "ax[2].imshow(edges2, cmap='gray')\n",
    "ax[2].set_title(r'Canny filter, $\\sigma=3$', fontsize=20)\n",
    "\n",
    "for a in ax:\n",
    "    a.axis('off')\n",
    "\n",
    "fig.tight_layout()\n",
    "plt.show()"
   ]
  },
  {
   "cell_type": "code",
   "execution_count": null,
   "id": "051ae872-becd-4244-bc62-e9254c073833",
   "metadata": {},
   "outputs": [],
   "source": []
  }
 ],
 "metadata": {
  "environment": {
   "kernel": "python3",
   "name": "tf2-gpu.2-8.m103",
   "type": "gcloud",
   "uri": "gcr.io/deeplearning-platform-release/tf2-gpu.2-8:m103"
  },
  "kernelspec": {
   "display_name": "Python 3 (ipykernel)",
   "language": "python",
   "name": "python3"
  },
  "language_info": {
   "codemirror_mode": {
    "name": "ipython",
    "version": 3
   },
   "file_extension": ".py",
   "mimetype": "text/x-python",
   "name": "python",
   "nbconvert_exporter": "python",
   "pygments_lexer": "ipython3",
   "version": "3.7.12"
  }
 },
 "nbformat": 4,
 "nbformat_minor": 5
}
